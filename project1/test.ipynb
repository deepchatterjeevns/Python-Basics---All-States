{
 "cells": [
  {
   "cell_type": "code",
   "execution_count": 1,
   "metadata": {},
   "outputs": [
    {
     "name": "stdout",
     "output_type": "stream",
     "text": [
      "Help on module pkg1.bs in pkg1:\n",
      "\n",
      "NAME\n",
      "    pkg1.bs\n",
      "\n",
      "DESCRIPTION\n",
      "    Define purpose of the module \n",
      "    Author Created by\n",
      "\n",
      "FUNCTIONS\n",
      "    binary_search(l, key)\n",
      "        bs impelemtation input is list and key returns True if key present else False\n",
      "\n",
      "FILE\n",
      "    e:\\sessions code\\allstates\\project1\\pkg1\\bs.py\n",
      "\n",
      "\n"
     ]
    }
   ],
   "source": [
    "from pkg1 import bs\n",
    "help(bs)\n",
    "# import pkg1.bs\n",
    "\n",
    "# from pkg1.bs import binary_search\n",
    "\n"
   ]
  },
  {
   "cell_type": "code",
   "execution_count": 10,
   "metadata": {},
   "outputs": [
    {
     "name": "stdout",
     "output_type": "stream",
     "text": [
      "True\n"
     ]
    }
   ],
   "source": [
    "l = [100,200,300,400,500,600]\n",
    "key = 500 \n",
    "print(binary_search(l,key))"
   ]
  },
  {
   "cell_type": "code",
   "execution_count": 2,
   "metadata": {},
   "outputs": [],
   "source": [
    "import random"
   ]
  }
 ],
 "metadata": {
  "kernelspec": {
   "display_name": "Python 3",
   "language": "python",
   "name": "python3"
  },
  "language_info": {
   "codemirror_mode": {
    "name": "ipython",
    "version": 3
   },
   "file_extension": ".py",
   "mimetype": "text/x-python",
   "name": "python",
   "nbconvert_exporter": "python",
   "pygments_lexer": "ipython3",
   "version": "3.6.5"
  }
 },
 "nbformat": 4,
 "nbformat_minor": 2
}
